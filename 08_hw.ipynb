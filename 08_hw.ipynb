{
 "cells": [
  {
   "cell_type": "markdown",
   "id": "7375c8fe",
   "metadata": {},
   "source": [
    "## Урок 8. Дисперсионный анализ. Логистическая регрессия"
   ]
  },
  {
   "cell_type": "markdown",
   "id": "3c555b5a",
   "metadata": {},
   "source": [
    "#### 1. Провести дисперсионный анализ для определения того, есть ли различия среднего роста среди взрослых футболистов, хоккеистов и штангистов. Даны значения роста в трех группах случайно выбранных спортсменов: \n",
    "\n",
    "Футболисты: 173, 175, 180, 178, 177, 185, 183, 182. \n",
    "\n",
    "Хоккеисты: 177, 179, 180, 188, 177, 172, 171, 184, 180. \n",
    "\n",
    "Штангисты: 172, 173, 169, 177, 166, 180, 178, 177, 172, 166, 170."
   ]
  },
  {
   "cell_type": "code",
   "execution_count": 169,
   "id": "728ff119",
   "metadata": {},
   "outputs": [],
   "source": [
    "import numpy as np"
   ]
  },
  {
   "cell_type": "code",
   "execution_count": 170,
   "id": "750f52eb",
   "metadata": {},
   "outputs": [],
   "source": [
    "footbal = [173, 175, 180, 178, 177, 185, 183, 182]\n",
    "hockey = [177, 179, 180, 188, 177, 172, 171, 184, 180]\n",
    "bodybuilding = [172, 173, 169, 177, 166, 180, 178, 177, 172, 166, 170]\n",
    "# footbal = [70, 50, 65, 60, 75]\n",
    "# hockey = [80, 75, 90, 70, 75, 65, 85, 100]\n",
    "# bodybuilding = [130, 100, 140, 150, 160, 170, 200]"
   ]
  },
  {
   "cell_type": "code",
   "execution_count": 171,
   "id": "8adbad7a",
   "metadata": {
    "scrolled": true
   },
   "outputs": [
    {
     "data": {
      "text/plain": [
       "(8, 9, 11)"
      ]
     },
     "execution_count": 171,
     "metadata": {},
     "output_type": "execute_result"
    }
   ],
   "source": [
    "nf = len(footbal)\n",
    "nh = len(hockey)\n",
    "nb = len(bodybuilding)\n",
    "nf, nh, nb"
   ]
  },
  {
   "cell_type": "code",
   "execution_count": 172,
   "id": "d44b9131",
   "metadata": {},
   "outputs": [],
   "source": [
    "k = 3"
   ]
  },
  {
   "cell_type": "code",
   "execution_count": 173,
   "id": "016427b9",
   "metadata": {},
   "outputs": [
    {
     "data": {
      "text/plain": [
       "<matplotlib.collections.PathCollection at 0x7fb252d53af0>"
      ]
     },
     "execution_count": 173,
     "metadata": {},
     "output_type": "execute_result"
    },
    {
     "data": {
      "image/png": "[encoded data removed]",
      "text/plain": [
       "<Figure size 432x288 with 1 Axes>"
      ]
     },
     "metadata": {
      "needs_background": "light"
     },
     "output_type": "display_data"
    }
   ],
   "source": [
    "import matplotlib.pyplot as plt\n",
    "plt.scatter(['Footbal' for _ in range(nf)], footbal)\n",
    "plt.scatter(['Hockey' for _ in range(nh)], hockey)\n",
    "plt.scatter(['Bodybuilding' for _ in range(nb)], bodybuilding)"
   ]
  },
  {
   "cell_type": "markdown",
   "id": "90a19be8",
   "metadata": {},
   "source": [
    "Средний рост Футболистов и Хоккеистов вряд ли будут иметь статистически значимые различия. \n",
    "А средний рост Штангистов вероятно будет иметь статистически значимые различия со средними показателями роста Ф и Х."
   ]
  },
  {
   "cell_type": "code",
   "execution_count": 174,
   "id": "7228b983",
   "metadata": {},
   "outputs": [
    {
     "data": {
      "text/plain": [
       "(179.125, 178.66666666666666, 172.72727272727272)"
      ]
     },
     "execution_count": 174,
     "metadata": {},
     "output_type": "execute_result"
    }
   ],
   "source": [
    "yf = sum(footbal) / nf\n",
    "yh = sum(hockey) / nh\n",
    "yb = sum(bodybuilding) / nb\n",
    "yf, yh, yb"
   ]
  },
  {
   "cell_type": "code",
   "execution_count": 175,
   "id": "41150d2a",
   "metadata": {},
   "outputs": [
    {
     "data": {
      "text/plain": [
       "176.46428571428572"
      ]
     },
     "execution_count": 175,
     "metadata": {},
     "output_type": "execute_result"
    }
   ],
   "source": [
    "Y = sum(footbal + hockey + bodybuilding) / (nf + nh + nb)\n",
    "Y"
   ]
  },
  {
   "cell_type": "code",
   "execution_count": 176,
   "id": "4613d34a",
   "metadata": {},
   "outputs": [
    {
     "data": {
      "text/plain": [
       "830.9642857142854"
      ]
     },
     "execution_count": 176,
     "metadata": {},
     "output_type": "execute_result"
    }
   ],
   "source": [
    "S2 = sum((np.array(footbal + hockey + bodybuilding) - Y) ** 2)\n",
    "S2"
   ]
  },
  {
   "cell_type": "code",
   "execution_count": 177,
   "id": "8e7ebf49",
   "metadata": {},
   "outputs": [
    {
     "data": {
      "text/plain": [
       "253.9074675324678"
      ]
     },
     "execution_count": 177,
     "metadata": {},
     "output_type": "execute_result"
    }
   ],
   "source": [
    "S2F = sum(((np.array([yf, yh, yb]) - Y) ** 2) * np.array([nf, nh, nb]))\n",
    "S2F"
   ]
  },
  {
   "cell_type": "code",
   "execution_count": 178,
   "id": "0ec9daa0",
   "metadata": {},
   "outputs": [
    {
     "data": {
      "text/plain": [
       "577.0568181818181"
      ]
     },
     "execution_count": 178,
     "metadata": {},
     "output_type": "execute_result"
    }
   ],
   "source": [
    "S2rest = sum((np.array(footbal) - yf) ** 2) + sum((np.array(hockey) - yh) ** 2) + sum((np.array(bodybuilding) - yb) ** 2)\n",
    "S2rest"
   ]
  },
  {
   "cell_type": "code",
   "execution_count": 179,
   "id": "42980af4",
   "metadata": {},
   "outputs": [
    {
     "data": {
      "text/plain": [
       "830.9642857142859"
      ]
     },
     "execution_count": 179,
     "metadata": {},
     "output_type": "execute_result"
    }
   ],
   "source": [
    "S2check = S2F + S2rest\n",
    "S2check"
   ]
  },
  {
   "cell_type": "code",
   "execution_count": 180,
   "id": "b56b38d1",
   "metadata": {},
   "outputs": [
    {
     "data": {
      "text/plain": [
       "126.9537337662339"
      ]
     },
     "execution_count": 180,
     "metadata": {},
     "output_type": "execute_result"
    }
   ],
   "source": [
    "sigma2F = S2F / (k - 1)\n",
    "sigma2F"
   ]
  },
  {
   "cell_type": "code",
   "execution_count": 181,
   "id": "ed6a4948",
   "metadata": {},
   "outputs": [
    {
     "data": {
      "text/plain": [
       "23.082272727272724"
      ]
     },
     "execution_count": 181,
     "metadata": {},
     "output_type": "execute_result"
    }
   ],
   "source": [
    "sigma2rest = S2rest / (nf + nh + nb - k)\n",
    "sigma2rest"
   ]
  },
  {
   "cell_type": "code",
   "execution_count": 182,
   "id": "6233764d",
   "metadata": {},
   "outputs": [
    {
     "data": {
      "text/plain": [
       "5.500053450812599"
      ]
     },
     "execution_count": 182,
     "metadata": {},
     "output_type": "execute_result"
    }
   ],
   "source": [
    "F_obs = sigma2F / sigma2rest # расчетный критерий фишера\n",
    "F_obs"
   ]
  },
  {
   "cell_type": "code",
   "execution_count": 183,
   "id": "954ecc4c",
   "metadata": {},
   "outputs": [],
   "source": [
    "# для dfмежд = 2 и dfвнутр = 28\n",
    "F_table = 3.34"
   ]
  },
  {
   "cell_type": "code",
   "execution_count": 184,
   "id": "6705d32e",
   "metadata": {},
   "outputs": [
    {
     "data": {
      "text/plain": [
       "True"
      ]
     },
     "execution_count": 184,
     "metadata": {},
     "output_type": "execute_result"
    }
   ],
   "source": [
    "# Различия среднего роста среди взрослых футболистов, хоккеистов и штангистов есть\n",
    "F_obs > F_table"
   ]
  },
  {
   "cell_type": "code",
   "execution_count": null,
   "id": "ac6b939a",
   "metadata": {},
   "outputs": [],
   "source": []
  },
  {
   "cell_type": "code",
   "execution_count": 185,
   "id": "1f900f82",
   "metadata": {},
   "outputs": [],
   "source": [
    "from scipy import stats"
   ]
  },
  {
   "cell_type": "code",
   "execution_count": 186,
   "id": "7d390f13",
   "metadata": {},
   "outputs": [
    {
     "data": {
      "text/plain": [
       "F_onewayResult(statistic=5.500053450812596, pvalue=0.010482206918698694)"
      ]
     },
     "execution_count": 186,
     "metadata": {},
     "output_type": "execute_result"
    }
   ],
   "source": [
    "stats.f_oneway(footbal, hockey, bodybuilding)"
   ]
  },
  {
   "cell_type": "code",
   "execution_count": 187,
   "id": "4ebea4d8",
   "metadata": {},
   "outputs": [
    {
     "data": {
      "text/plain": [
       "True"
      ]
     },
     "execution_count": 187,
     "metadata": {},
     "output_type": "execute_result"
    }
   ],
   "source": [
    "# Различия среднего роста среди взрослых футболистов, хоккеистов и штангистов есть (альтерн. гипотеза)\n",
    "stats.f_oneway(footbal, hockey, bodybuilding).pvalue < 0.05"
   ]
  },
  {
   "cell_type": "code",
   "execution_count": null,
   "id": "1ae74340",
   "metadata": {},
   "outputs": [],
   "source": []
  }
 ],
 "metadata": {
  "kernelspec": {
   "display_name": "Python 3",
   "language": "python",
   "name": "python3"
  },
  "language_info": {
   "codemirror_mode": {
    "name": "ipython",
    "version": 3
   },
   "file_extension": ".py",
   "mimetype": "text/x-python",
   "name": "python",
   "nbconvert_exporter": "python",
   "pygments_lexer": "ipython3",
   "version": "3.8.8"
  }
 },
 "nbformat": 4,
 "nbformat_minor": 5
}
