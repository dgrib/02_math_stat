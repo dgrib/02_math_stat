{
 "cells": [
  {
   "cell_type": "markdown",
   "id": "c4a3785d",
   "metadata": {},
   "source": [
    "## Урок 7. Многомерный статистический анализ. Линейная регрессия"
   ]
  },
  {
   "cell_type": "markdown",
   "id": "c12d152d",
   "metadata": {},
   "source": [
    "#### 1. Даны значения величины заработной платы заемщиков банка (zp) и значения их поведенческого кредитного скоринга (ks): \n",
    "\n",
    "#### zp = [35, 45, 190, 200, 40, 70, 54, 150, 120, 110], \n",
    "\n",
    "#### ks = [401, 574, 874, 919, 459, 739, 653, 902, 746, 832]. \n",
    "\n",
    "#### Используя математические операции, посчитать коэффициенты линейной регрессии, приняв за X заработную плату (то есть, zp - признак), а за y - значения скорингового балла (то есть, ks - целевая переменная). Произвести расчет как с использованием intercept, так и без."
   ]
  },
  {
   "cell_type": "code",
   "execution_count": 109,
   "id": "d225bf24",
   "metadata": {},
   "outputs": [],
   "source": [
    "zp = [35, 45, 190, 200, 40, 70, 54, 150, 120, 110]\n",
    "ks = [401, 574, 874, 919, 459, 739, 653, 902, 746, 832]"
   ]
  },
  {
   "cell_type": "code",
   "execution_count": 110,
   "id": "b55c75c1",
   "metadata": {
    "scrolled": false
   },
   "outputs": [
    {
     "data": {
      "text/plain": [
       "<matplotlib.collections.PathCollection at 0x7fe910049130>"
      ]
     },
     "execution_count": 110,
     "metadata": {},
     "output_type": "execute_result"
    },
    {
     "data": {
      "image/png": "[encoded data removed]",
      "text/plain": [
       "<Figure size 432x288 with 1 Axes>"
      ]
     },
     "metadata": {
      "needs_background": "light"
     },
     "output_type": "display_data"
    }
   ],
   "source": [
    "import matplotlib.pyplot as plt\n",
    "plt.scatter(zp, ks)"
   ]
  },
  {
   "cell_type": "markdown",
   "id": "ea090106",
   "metadata": {},
   "source": [
    "with intercept"
   ]
  },
  {
   "cell_type": "code",
   "execution_count": 111,
   "id": "d9356f23",
   "metadata": {},
   "outputs": [],
   "source": [
    "import numpy as np\n",
    "X = np.array(zp)\n",
    "y = np.array(ks)"
   ]
  },
  {
   "cell_type": "code",
   "execution_count": 112,
   "id": "7daf69de",
   "metadata": {},
   "outputs": [],
   "source": [
    "n = len(X)"
   ]
  },
  {
   "cell_type": "code",
   "execution_count": 113,
   "id": "7f213ba8",
   "metadata": {},
   "outputs": [
    {
     "data": {
      "text/plain": [
       "2.6205388824027653"
      ]
     },
     "execution_count": 113,
     "metadata": {},
     "output_type": "execute_result"
    }
   ],
   "source": [
    "b = (n * np.sum(X*y) - (np.sum(X) * np.sum(y))) / (n * np.sum(X**2) - np.sum(X)**2)\n",
    "b"
   ]
  },
  {
   "cell_type": "code",
   "execution_count": 114,
   "id": "6e4f0163",
   "metadata": {},
   "outputs": [
    {
     "data": {
      "text/plain": [
       "444.17735732435955"
      ]
     },
     "execution_count": 114,
     "metadata": {},
     "output_type": "execute_result"
    }
   ],
   "source": [
    "a = np.mean(y) - b * np.mean(X) # это наша мат модель\n",
    "a"
   ]
  },
  {
   "cell_type": "code",
   "execution_count": 115,
   "id": "6780a7ab",
   "metadata": {},
   "outputs": [
    {
     "data": {
      "text/plain": [
       "array([535.89621821, 562.10160703, 942.07974498, 968.2851338 ,\n",
       "       548.99891262, 627.61507909, 585.68645697, 837.25818968,\n",
       "       758.64202321, 732.43663439])"
      ]
     },
     "execution_count": 115,
     "metadata": {},
     "output_type": "execute_result"
    }
   ],
   "source": [
    "y_hat = a + b * X\n",
    "y_hat"
   ]
  },
  {
   "cell_type": "code",
   "execution_count": 116,
   "id": "5f1a991e",
   "metadata": {},
   "outputs": [
    {
     "data": {
      "text/plain": [
       "array([401, 574, 874, 919, 459, 739, 653, 902, 746, 832])"
      ]
     },
     "execution_count": 116,
     "metadata": {},
     "output_type": "execute_result"
    }
   ],
   "source": [
    "y"
   ]
  },
  {
   "cell_type": "code",
   "execution_count": 117,
   "id": "11a607af",
   "metadata": {
    "scrolled": true
   },
   "outputs": [
    {
     "data": {
      "text/plain": [
       "[<matplotlib.lines.Line2D at 0x7fe9201dc160>]"
      ]
     },
     "execution_count": 117,
     "metadata": {},
     "output_type": "execute_result"
    },
    {
     "data": {
      "image/png": "[encoded data removed]",
      "text/plain": [
       "<Figure size 432x288 with 1 Axes>"
      ]
     },
     "metadata": {
      "needs_background": "light"
     },
     "output_type": "display_data"
    }
   ],
   "source": [
    "plt.scatter(zp, ks)\n",
    "plt.plot(X, y_hat)"
   ]
  },
  {
   "cell_type": "markdown",
   "id": "69e6eb0c",
   "metadata": {},
   "source": [
    "with intercept matrix method"
   ]
  },
  {
   "cell_type": "code",
   "execution_count": 10,
   "id": "b18892ec",
   "metadata": {},
   "outputs": [],
   "source": [
    "import seaborn as sbs"
   ]
  },
  {
   "cell_type": "code",
   "execution_count": 11,
   "id": "bd6d4051",
   "metadata": {},
   "outputs": [
    {
     "data": {
      "text/plain": [
       "array([[ 35],\n",
       "       [ 45],\n",
       "       [190],\n",
       "       [200],\n",
       "       [ 40],\n",
       "       [ 70],\n",
       "       [ 54],\n",
       "       [150],\n",
       "       [120],\n",
       "       [110]])"
      ]
     },
     "execution_count": 11,
     "metadata": {},
     "output_type": "execute_result"
    }
   ],
   "source": [
    "X_m = X.reshape((n, 1))\n",
    "X_m"
   ]
  },
  {
   "cell_type": "code",
   "execution_count": 12,
   "id": "eb43a886",
   "metadata": {
    "scrolled": true
   },
   "outputs": [
    {
     "data": {
      "text/plain": [
       "array([[401],\n",
       "       [574],\n",
       "       [874],\n",
       "       [919],\n",
       "       [459],\n",
       "       [739],\n",
       "       [653],\n",
       "       [902],\n",
       "       [746],\n",
       "       [832]])"
      ]
     },
     "execution_count": 12,
     "metadata": {},
     "output_type": "execute_result"
    }
   ],
   "source": [
    "y_m = y.reshape((n, 1))\n",
    "y_m"
   ]
  },
  {
   "cell_type": "code",
   "execution_count": 13,
   "id": "4f2c6dea",
   "metadata": {
    "scrolled": true
   },
   "outputs": [
    {
     "data": {
      "text/plain": [
       "array([[  1.,  35.],\n",
       "       [  1.,  45.],\n",
       "       [  1., 190.],\n",
       "       [  1., 200.],\n",
       "       [  1.,  40.],\n",
       "       [  1.,  70.],\n",
       "       [  1.,  54.],\n",
       "       [  1., 150.],\n",
       "       [  1., 120.],\n",
       "       [  1., 110.]])"
      ]
     },
     "execution_count": 13,
     "metadata": {},
     "output_type": "execute_result"
    }
   ],
   "source": [
    "X_m = np.hstack([np.ones((n,1)), X_m])\n",
    "X_m"
   ]
  },
  {
   "cell_type": "code",
   "execution_count": 14,
   "id": "f1a52dff",
   "metadata": {
    "scrolled": true
   },
   "outputs": [
    {
     "data": {
      "text/plain": [
       "array([[444.17735732],\n",
       "       [  2.62053888]])"
      ]
     },
     "execution_count": 14,
     "metadata": {},
     "output_type": "execute_result"
    }
   ],
   "source": [
    "B_m = np.dot(np.linalg.inv(X_m.T @ X_m), X_m.T@y_m) # умножать матрицы и веторы можно @ и dot()\n",
    "B_m"
   ]
  },
  {
   "cell_type": "markdown",
   "id": "b6e7e0b7",
   "metadata": {},
   "source": [
    "without intercept"
   ]
  },
  {
   "cell_type": "code",
   "execution_count": 15,
   "id": "7db21d36",
   "metadata": {},
   "outputs": [
    {
     "data": {
      "text/plain": [
       "array([ 91.71886088, 117.92424971, 497.90238766, 524.10777648,\n",
       "       104.8215553 , 183.43772177, 141.50909965, 393.08083236,\n",
       "       314.46466589, 288.25927706])"
      ]
     },
     "execution_count": 15,
     "metadata": {},
     "output_type": "execute_result"
    }
   ],
   "source": [
    "y_hat_without = b * X\n",
    "y_hat_without"
   ]
  },
  {
   "cell_type": "code",
   "execution_count": 16,
   "id": "34b53bd3",
   "metadata": {},
   "outputs": [
    {
     "data": {
      "text/plain": [
       "array([401, 574, 874, 919, 459, 739, 653, 902, 746, 832])"
      ]
     },
     "execution_count": 16,
     "metadata": {},
     "output_type": "execute_result"
    }
   ],
   "source": [
    "y"
   ]
  },
  {
   "cell_type": "code",
   "execution_count": 17,
   "id": "6548627a",
   "metadata": {
    "scrolled": false
   },
   "outputs": [
    {
     "data": {
      "text/plain": [
       "[<matplotlib.lines.Line2D at 0x7fe94018f820>]"
      ]
     },
     "execution_count": 17,
     "metadata": {},
     "output_type": "execute_result"
    },
    {
     "data": {
      "image/png": "[encoded data removed]",
      "text/plain": [
       "<Figure size 432x288 with 1 Axes>"
      ]
     },
     "metadata": {
      "needs_background": "light"
     },
     "output_type": "display_data"
    }
   ],
   "source": [
    "plt.scatter(zp, ks)\n",
    "plt.plot(X, y_hat_without)"
   ]
  },
  {
   "cell_type": "markdown",
   "id": "68b1f066",
   "metadata": {},
   "source": [
    "плохая модель получилась"
   ]
  },
  {
   "cell_type": "markdown",
   "id": "d67cd49a",
   "metadata": {},
   "source": [
    "without intercept matrix method"
   ]
  },
  {
   "cell_type": "code",
   "execution_count": 18,
   "id": "dd809e68",
   "metadata": {},
   "outputs": [
    {
     "data": {
      "text/plain": [
       "array([[ 35],\n",
       "       [ 45],\n",
       "       [190],\n",
       "       [200],\n",
       "       [ 40],\n",
       "       [ 70],\n",
       "       [ 54],\n",
       "       [150],\n",
       "       [120],\n",
       "       [110]])"
      ]
     },
     "execution_count": 18,
     "metadata": {},
     "output_type": "execute_result"
    }
   ],
   "source": [
    "X_m_without = X.reshape((n, 1))\n",
    "X_m_without"
   ]
  },
  {
   "cell_type": "code",
   "execution_count": 19,
   "id": "59db6b07",
   "metadata": {},
   "outputs": [
    {
     "data": {
      "text/plain": [
       "array([[401],\n",
       "       [574],\n",
       "       [874],\n",
       "       [919],\n",
       "       [459],\n",
       "       [739],\n",
       "       [653],\n",
       "       [902],\n",
       "       [746],\n",
       "       [832]])"
      ]
     },
     "execution_count": 19,
     "metadata": {},
     "output_type": "execute_result"
    }
   ],
   "source": [
    "y_m_without = y.reshape((n, 1))\n",
    "y_m_without"
   ]
  },
  {
   "cell_type": "code",
   "execution_count": 20,
   "id": "c9401e22",
   "metadata": {},
   "outputs": [
    {
     "data": {
      "text/plain": [
       "array([[5.88982042]])"
      ]
     },
     "execution_count": 20,
     "metadata": {},
     "output_type": "execute_result"
    }
   ],
   "source": [
    "B_m_without = np.dot(np.linalg.inv(X_m_without.T @ X_m_without), X_m_without.T@y_m_without)\n",
    "B_m_without"
   ]
  },
  {
   "cell_type": "code",
   "execution_count": 21,
   "id": "cc74a91f",
   "metadata": {
    "scrolled": true
   },
   "outputs": [
    {
     "data": {
      "text/plain": [
       "[<matplotlib.lines.Line2D at 0x7fe92017f550>]"
      ]
     },
     "execution_count": 21,
     "metadata": {},
     "output_type": "execute_result"
    },
    {
     "data": {
      "image/png": "[encoded data removed]",
      "text/plain": [
       "<Figure size 432x288 with 1 Axes>"
      ]
     },
     "metadata": {
      "needs_background": "light"
     },
     "output_type": "display_data"
    }
   ],
   "source": [
    "plt.scatter(zp, ks)\n",
    "plt.plot(X, B_m_without[0]*X)"
   ]
  },
  {
   "cell_type": "markdown",
   "id": "21c27165",
   "metadata": {},
   "source": [
    "#### 2. Посчитать коэффициент линейной регрессии при заработной плате (zp), используя градиентный спуск (без intercept)."
   ]
  },
  {
   "cell_type": "code",
   "execution_count": 232,
   "id": "cc9a38d0",
   "metadata": {},
   "outputs": [],
   "source": [
    "X = np.array(zp)\n",
    "y = np.array(ks)"
   ]
  },
  {
   "cell_type": "code",
   "execution_count": 233,
   "id": "3826adcf",
   "metadata": {},
   "outputs": [],
   "source": [
    "def mse_(B1, y=y, X=X, n=10):\n",
    "    return np.sum((B1*X - y)**2) / n"
   ]
  },
  {
   "cell_type": "code",
   "execution_count": 234,
   "id": "4a8069c3",
   "metadata": {},
   "outputs": [
    {
     "data": {
      "text/plain": [
       "1e-06"
      ]
     },
     "execution_count": 234,
     "metadata": {},
     "output_type": "execute_result"
    }
   ],
   "source": [
    "alpha = 1e-6\n",
    "alpha"
   ]
  },
  {
   "cell_type": "code",
   "execution_count": 235,
   "id": "6b84df69",
   "metadata": {},
   "outputs": [],
   "source": [
    "B1 = 0.1\n",
    "n = len(X)"
   ]
  },
  {
   "cell_type": "code",
   "execution_count": 236,
   "id": "155584fc",
   "metadata": {},
   "outputs": [
    {
     "name": "stdout",
     "output_type": "stream",
     "text": [
      "Iteration 000: B1 = 0.259528080000000, mse = 493237.7212546963\n",
      "Iteration 050: B1 = 4.497229618367758, mse = 83233.9447298283\n",
      "Iteration 100: B1 = 5.545378422452230, mse = 58151.3182317111\n",
      "Iteration 150: B1 = 5.804626485478126, mse = 56616.8490680939\n",
      "Iteration 200: B1 = 5.868748638669329, mse = 56522.9755012938\n",
      "Iteration 250: B1 = 5.884608547059329, mse = 56517.2326380596\n",
      "Iteration 300: B1 = 5.888531320728348, mse = 56516.8813093602\n",
      "Iteration 350: B1 = 5.889501575592372, mse = 56516.8598162739\n",
      "Iteration 400: B1 = 5.889741557447199, mse = 56516.8585014005\n",
      "Iteration 450: B1 = 5.889800914315978, mse = 56516.8584209611\n",
      "Iteration 500: B1 = 5.889815595583751, mse = 56516.8584160401\n",
      "Iteration 550: B1 = 5.889819226833643, mse = 56516.8584157390\n",
      "Iteration 600: B1 = 5.889820124983314, mse = 56516.8584157206\n",
      "Iteration 650: B1 = 5.889820347130743, mse = 56516.8584157195\n",
      "Iteration 700: B1 = 5.889820402076462, mse = 56516.8584157194\n",
      "Iteration 750: B1 = 5.889820415666681, mse = 56516.8584157194\n",
      "Iteration 800: B1 = 5.889820419028070, mse = 56516.8584157194\n",
      "Iteration 850: B1 = 5.889820419859474, mse = 56516.8584157194\n",
      "Iteration 900: B1 = 5.889820420065112, mse = 56516.8584157194\n",
      "Iteration 950: B1 = 5.889820420115975, mse = 56516.8584157194\n"
     ]
    }
   ],
   "source": [
    "for i in range(1000):\n",
    "    B1 -= alpha * (2/n) * np.sum((B1*X - y) *X)\n",
    "    if i%50 == 0:\n",
    "        print(f'Iteration {i:03}: B1 = {B1:.15f}, mse = {mse_(B1):.10f}')"
   ]
  },
  {
   "cell_type": "code",
   "execution_count": 237,
   "id": "0dcf5bee",
   "metadata": {},
   "outputs": [
    {
     "data": {
      "text/plain": [
       "56516.8584157194"
      ]
     },
     "execution_count": 237,
     "metadata": {},
     "output_type": "execute_result"
    }
   ],
   "source": [
    "mse_(5.889820420132676)"
   ]
  },
  {
   "cell_type": "markdown",
   "id": "b6e9fdb4",
   "metadata": {},
   "source": [
    "#### 3. В каких случаях для вычисления доверительных интервалов и проверки статистических гипотез используется таблица значений функции Лапласа, а в каких - таблица критических точек распределения Стьюдента?"
   ]
  },
  {
   "cell_type": "markdown",
   "id": "c1548a19",
   "metadata": {},
   "source": [
    "Таблица значений функции Лапласа используется при **известной** дисперсии случайной величины (среднеквадратичного отклонения)\n",
    "\n",
    "Таблица критических точек распределения Стьюдента используется при **неизвестной** дисперсии случайной величины (среднеквадратичного отклонения)"
   ]
  },
  {
   "cell_type": "markdown",
   "id": "08cd103d",
   "metadata": {},
   "source": [
    "#### 4. Произвести вычисления как в пункте 2, но с вычислением intercept. Учесть, что изменение коэффициентов должно производиться на каждом шаге одновременно (то есть изменение одного коэффициента не должно влиять на изменение другого во время одной итерации)."
   ]
  },
  {
   "cell_type": "code",
   "execution_count": 269,
   "id": "f9cb5c0c",
   "metadata": {},
   "outputs": [],
   "source": [
    "X = np.array(zp)\n",
    "y = np.array(ks)"
   ]
  },
  {
   "cell_type": "code",
   "execution_count": 270,
   "id": "17095577",
   "metadata": {},
   "outputs": [],
   "source": [
    "def mse_(B0, B1, y=y, X=X, n=8):\n",
    "    return np.sum((B0 + B1*X - y)**2) / n"
   ]
  },
  {
   "cell_type": "code",
   "execution_count": 271,
   "id": "47733034",
   "metadata": {},
   "outputs": [
    {
     "data": {
      "text/plain": [
       "(0.1, 0.1, 10)"
      ]
     },
     "execution_count": 271,
     "metadata": {},
     "output_type": "execute_result"
    }
   ],
   "source": [
    "B0 = 0.1\n",
    "B1 = 0.1\n",
    "n = len(X)\n",
    "B0, B1, n"
   ]
  },
  {
   "cell_type": "code",
   "execution_count": 272,
   "id": "aeec6318",
   "metadata": {},
   "outputs": [
    {
     "data": {
      "text/plain": [
       "7e-05"
      ]
     },
     "execution_count": 272,
     "metadata": {},
     "output_type": "execute_result"
    }
   ],
   "source": [
    "alpha = 7e-5\n",
    "alpha"
   ]
  },
  {
   "cell_type": "code",
   "execution_count": 273,
   "id": "568f52b8",
   "metadata": {},
   "outputs": [
    {
     "name": "stdout",
     "output_type": "stream",
     "text": [
      "Iteration      0: B0 = 0.197952400000000, B1 = 11.265545999999999, mse = 568512.682694747345522\n",
      "Iteration  50000: B0 = 368.967853409883162, B1 = 3.174114083245096, mse = 9881.577530373493573\n",
      "Iteration 100000: B0 = 431.438105796995103, B1 = 2.714305405990807, mse = 8139.476383065230948\n",
      "Iteration 150000: B0 = 442.019537886248656, B1 = 2.636421387494038, mse = 8089.494139822470970\n",
      "Iteration 200000: B0 = 443.811858243231086, B1 = 2.623229117236298, mse = 8088.060110206325589\n",
      "Iteration 250000: B0 = 444.115447798500497, B1 = 2.620994563884863, mse = 8088.018966776044181\n",
      "Iteration 300000: B0 = 444.166870870114337, B1 = 2.620616067342338, mse = 8088.017786338881706\n",
      "Iteration 350000: B0 = 444.175581091685274, B1 = 2.620551956260567, mse = 8088.017752471215317\n",
      "Iteration 400000: B0 = 444.177056459794869, B1 = 2.620541096898982, mse = 8088.017751499527549\n",
      "Iteration 450000: B0 = 444.177306362856655, B1 = 2.620539257501958, mse = 8088.017751471648808\n",
      "Iteration 500000: B0 = 444.177348692321289, B1 = 2.620538945938383, mse = 8088.017751470853909\n",
      "Iteration 550000: B0 = 444.177355862234151, B1 = 2.620538893164654, mse = 8088.017751470824805\n",
      "Iteration 600000: B0 = 444.177357076699479, B1 = 2.620538884225654, mse = 8088.017751470825715\n",
      "Iteration 650000: B0 = 444.177357282406319, B1 = 2.620538882711559, mse = 8088.017751470824805\n",
      "Iteration 700000: B0 = 444.177357317256906, B1 = 2.620538882455044, mse = 8088.017751470825715\n",
      "Iteration 750000: B0 = 444.177357323092110, B1 = 2.620538882412093, mse = 8088.017751470825715\n"
     ]
    }
   ],
   "source": [
    "for i in range(800000):\n",
    "    y_pred = B0 + B1*X\n",
    "    B0 -= alpha * (2/n) * np.sum(y_pred - y)\n",
    "    B1 -= alpha * (2/n) * np.sum((y_pred - y) *X)\n",
    "    if i%50000 == 0:\n",
    "        print(f'Iteration {i:6d}: B0 = {B0:.15f}, B1 = {B1:.15f}, mse = {mse_(B0, B1):.15f}')"
   ]
  },
  {
   "cell_type": "code",
   "execution_count": null,
   "id": "d479f834",
   "metadata": {},
   "outputs": [],
   "source": []
  }
 ],
 "metadata": {
  "kernelspec": {
   "display_name": "Python 3",
   "language": "python",
   "name": "python3"
  },
  "language_info": {
   "codemirror_mode": {
    "name": "ipython",
    "version": 3
   },
   "file_extension": ".py",
   "mimetype": "text/x-python",
   "name": "python",
   "nbconvert_exporter": "python",
   "pygments_lexer": "ipython3",
   "version": "3.8.8"
  }
 },
 "nbformat": 4,
 "nbformat_minor": 5
}
