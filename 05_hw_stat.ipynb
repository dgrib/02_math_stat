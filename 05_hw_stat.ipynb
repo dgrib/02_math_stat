{
 "cells": [
  {
   "cell_type": "markdown",
   "id": "e52cb670",
   "metadata": {},
   "source": [
    "# ДЗ_05 math stat\n",
    "## Урок 5. Проверка статистических гипотез. P-значения. Доверительные интервалы. A/B-тестирование"
   ]
  },
  {
   "cell_type": "markdown",
   "id": "d76ac546",
   "metadata": {},
   "source": [
    "1. Известно, что генеральная совокупность распределена нормально\n",
    "со средним квадратическим отклонением, равным 16.\n",
    "Найти доверительный интервал для оценки математического ожидания a с надежностью 0.95,\n",
    "если выборочная средняя M = 80, а объем выборки n = 256."
   ]
  },
  {
   "cell_type": "code",
   "execution_count": 24,
   "id": "bbc11ccc",
   "metadata": {},
   "outputs": [],
   "source": [
    "std1 = 16\n",
    "x_ = 80\n",
    "n = 256\n",
    "a = 5\n",
    "z025 = 1.96"
   ]
  },
  {
   "cell_type": "code",
   "execution_count": 25,
   "id": "de2bfc4a",
   "metadata": {},
   "outputs": [
    {
     "data": {
      "text/plain": [
       "(78.04, 81.96)"
      ]
     },
     "execution_count": 25,
     "metadata": {},
     "output_type": "execute_result"
    }
   ],
   "source": [
    "value1 = x_ - (z025 * std1 / (n**0.5))\n",
    "value2 = x_ + (z025 * std1 / (n**0.5))\n",
    "value1, value2"
   ]
  },
  {
   "cell_type": "markdown",
   "id": "a739c01e",
   "metadata": {},
   "source": [
    "2. В результате 10 независимых измерений некоторой величины X, выполненных с одинаковой точностью, получены опытные данные: 6.9, 6.1, 6.2, 6.8, 7.5, 6.3, 6.4, 6.9, 6.7, 6.1\n",
    "Предполагая, что результаты измерений подчинены нормальному закону распределения вероятностей,\n",
    "оценить истинное значение величины X при помощи доверительного интервала, покрывающего это\n",
    "значение с доверительной вероятностью 0,95."
   ]
  },
  {
   "cell_type": "code",
   "execution_count": 28,
   "id": "58530133",
   "metadata": {},
   "outputs": [],
   "source": [
    "n = 10\n",
    "data = [6.9, 6.1, 6.2, 6.8, 7.5, 6.3, 6.4, 6.9, 6.7, 6.1]\n",
    "alpha = 5\n",
    "t025 = 2.262"
   ]
  },
  {
   "cell_type": "code",
   "execution_count": 29,
   "id": "dd21fd88",
   "metadata": {
    "scrolled": true
   },
   "outputs": [
    {
     "data": {
      "text/plain": [
       "6.590000000000001"
      ]
     },
     "execution_count": 29,
     "metadata": {},
     "output_type": "execute_result"
    }
   ],
   "source": [
    "import numpy as np\n",
    "x_ = np.mean(data)\n",
    "x_"
   ]
  },
  {
   "cell_type": "code",
   "execution_count": 34,
   "id": "0536e9cc",
   "metadata": {},
   "outputs": [
    {
     "data": {
      "text/plain": [
       "0.4508017549014448"
      ]
     },
     "execution_count": 34,
     "metadata": {},
     "output_type": "execute_result"
    }
   ],
   "source": [
    "std2 = np.std(data, ddof=1) # несмещенное среднекваратичное отклонение\n",
    "std2"
   ]
  },
  {
   "cell_type": "code",
   "execution_count": 39,
   "id": "df96af00",
   "metadata": {},
   "outputs": [
    {
     "data": {
      "text/plain": [
       "(6.267538255912426, 6.912461744087575)"
      ]
     },
     "execution_count": 39,
     "metadata": {},
     "output_type": "execute_result"
    }
   ],
   "source": [
    "value3 =   x_ - t025 * std2 / (n**0.5)\n",
    "value4 =   x_ + t025 * std2 / (n**0.5)\n",
    "value3, value4"
   ]
  },
  {
   "cell_type": "markdown",
   "id": "adf879e4",
   "metadata": {},
   "source": [
    "3. Утверждается, что шарики для подшипников, изготовленные автоматическим станком, имеют средний диаметр 17 мм.\n",
    "Используя односторонний критерий с α=0,05, проверить эту гипотезу, если в выборке из n=100 шариков средний диаметр\n",
    "оказался равным 17.5 мм, а дисперсия известна и равна 4 кв. мм."
   ]
  },
  {
   "cell_type": "code",
   "execution_count": 52,
   "id": "80dbbb2d",
   "metadata": {},
   "outputs": [],
   "source": [
    "M = 17\n",
    "a_1 = 0.95\n",
    "n = 100\n",
    "x_ = 17.5\n",
    "D = 4"
   ]
  },
  {
   "cell_type": "code",
   "execution_count": 53,
   "id": "f7454dbd",
   "metadata": {},
   "outputs": [
    {
     "data": {
      "text/plain": [
       "2.0"
      ]
     },
     "execution_count": 53,
     "metadata": {},
     "output_type": "execute_result"
    }
   ],
   "source": [
    "std_3 = D**0.5\n",
    "std_3"
   ]
  },
  {
   "cell_type": "markdown",
   "id": "e0a3d211",
   "metadata": {},
   "source": [
    "H0 - M=x_\n",
    "\n",
    "H1 - x_ > M\n",
    "\n",
    "сравним критерии z_table и z_count"
   ]
  },
  {
   "cell_type": "code",
   "execution_count": 54,
   "id": "ba54b516",
   "metadata": {},
   "outputs": [
    {
     "data": {
      "text/plain": [
       "1.6448536269514722"
      ]
     },
     "execution_count": 54,
     "metadata": {},
     "output_type": "execute_result"
    }
   ],
   "source": [
    "from scipy.stats import norm # cdf ppf\n",
    "z_table = norm.ppf(a_1)\n",
    "z_table"
   ]
  },
  {
   "cell_type": "code",
   "execution_count": 58,
   "id": "3219cab3",
   "metadata": {},
   "outputs": [
    {
     "data": {
      "text/plain": [
       "2.5"
      ]
     },
     "execution_count": 58,
     "metadata": {},
     "output_type": "execute_result"
    }
   ],
   "source": [
    "z_count = (x_ - M) / (std_3 / (n**0.5))\n",
    "z_count"
   ]
  },
  {
   "cell_type": "markdown",
   "id": "e3a1869a",
   "metadata": {},
   "source": [
    "принимаем Н1"
   ]
  },
  {
   "cell_type": "markdown",
   "id": "88e831b7",
   "metadata": {},
   "source": [
    "4. Продавец утверждает, что средний вес пачки печенья составляет 200 г.\n",
    "Из партии извлечена выборка из 10 пачек. Вес каждой пачки составляет:\n",
    "202, 203, 199, 197, 195, 201, 200, 204, 194, 190.\n",
    "Известно, что их веса распределены нормально.\n",
    "Верно ли утверждение продавца, если учитывать, что доверительная вероятность равна 99%?"
   ]
  },
  {
   "cell_type": "code",
   "execution_count": 82,
   "id": "f8e22a7f",
   "metadata": {},
   "outputs": [],
   "source": [
    "M_4 = 200\n",
    "n_4 = 10\n",
    "weighs = [202, 203, 199, 197, 195, 201, 200, 204, 194, 190]\n",
    "a_4 = 0.01"
   ]
  },
  {
   "cell_type": "markdown",
   "id": "f33940dc",
   "metadata": {},
   "source": [
    "H0 - M_4=x_4"
   ]
  },
  {
   "cell_type": "code",
   "execution_count": 68,
   "id": "a1209926",
   "metadata": {},
   "outputs": [
    {
     "data": {
      "text/plain": [
       "(198.5, 4.453463071962462)"
      ]
     },
     "execution_count": 68,
     "metadata": {},
     "output_type": "execute_result"
    }
   ],
   "source": [
    "x_4 = np.mean(weighs)\n",
    "std_4 = np.std(weighs, ddof=1)\n",
    "x_4, std_4"
   ]
  },
  {
   "cell_type": "code",
   "execution_count": 69,
   "id": "42841329",
   "metadata": {},
   "outputs": [
    {
     "data": {
      "text/plain": [
       "-1.0651074037450896"
      ]
     },
     "execution_count": 69,
     "metadata": {},
     "output_type": "execute_result"
    }
   ],
   "source": [
    "t_4_count = (x_4 - M_4) / (std_4 / (n_4**0.5))\n",
    "t_4_count"
   ]
  },
  {
   "cell_type": "code",
   "execution_count": 89,
   "id": "cee648ef",
   "metadata": {},
   "outputs": [],
   "source": [
    "# т критерий стьюдента табличный (для 0,005 и 9 степеней свободы)\n",
    "# интервал -3.25; 3.25"
   ]
  },
  {
   "cell_type": "markdown",
   "id": "0f27ccd5",
   "metadata": {},
   "source": [
    "принимаем Н0"
   ]
  }
 ],
 "metadata": {
  "kernelspec": {
   "display_name": "Python 3",
   "language": "python",
   "name": "python3"
  },
  "language_info": {
   "codemirror_mode": {
    "name": "ipython",
    "version": 3
   },
   "file_extension": ".py",
   "mimetype": "text/x-python",
   "name": "python",
   "nbconvert_exporter": "python",
   "pygments_lexer": "ipython3",
   "version": "3.8.8"
  }
 },
 "nbformat": 4,
 "nbformat_minor": 5
}
