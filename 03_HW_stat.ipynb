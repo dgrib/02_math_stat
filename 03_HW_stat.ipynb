{
 "cells": [
  {
   "cell_type": "markdown",
   "id": "35ef5d45",
   "metadata": {},
   "source": [
    "# ДЗ_03 Stat"
   ]
  },
  {
   "cell_type": "markdown",
   "id": "ae6c9431",
   "metadata": {},
   "source": [
    "### 1. Даны значения зарплат из выборки выпускников: 100, 80, 75, 77, 89, 33, 45, 25, 65, 17, 30, 24, 57, 55, 70, 75, 65, 84, 90, 150. Посчитать (желательно без использования статистических методов наподобие std, var, mean) среднее арифметическое, среднее квадратичное отклонение, смещенную и несмещенную оценки дисперсий для данной выборки."
   ]
  },
  {
   "cell_type": "code",
   "execution_count": 1,
   "id": "1439bebe",
   "metadata": {},
   "outputs": [],
   "source": [
    "salaries = [100, 80, 75, 77, 89, 33, 45, 25, 65, 17, 30, 24, 57, 55, 70, 75, 65, 84, 90, 150]"
   ]
  },
  {
   "cell_type": "code",
   "execution_count": 2,
   "id": "ce7626bb",
   "metadata": {},
   "outputs": [
    {
     "data": {
      "text/plain": [
       "65.3"
      ]
     },
     "execution_count": 2,
     "metadata": {},
     "output_type": "execute_result"
    }
   ],
   "source": [
    "# arithmetic mean\n",
    "my_mean = sum(salaries) / len(salaries)\n",
    "my_mean"
   ]
  },
  {
   "cell_type": "code",
   "execution_count": 3,
   "id": "b3d278bd",
   "metadata": {
    "scrolled": false
   },
   "outputs": [
    {
     "data": {
      "text/plain": [
       "1000.1157894736842"
      ]
     },
     "execution_count": 3,
     "metadata": {},
     "output_type": "execute_result"
    }
   ],
   "source": [
    "# variance n - 1\n",
    "my_var_1 = sum([(x - my_mean)**2 for x in salaries]) / (len(salaries) - 1)\n",
    "my_var_1"
   ]
  },
  {
   "cell_type": "code",
   "execution_count": 4,
   "id": "4c7bd2b6",
   "metadata": {
    "scrolled": false
   },
   "outputs": [
    {
     "data": {
      "text/plain": [
       "950.11"
      ]
     },
     "execution_count": 4,
     "metadata": {},
     "output_type": "execute_result"
    }
   ],
   "source": [
    "# variance\n",
    "my_var = sum([(x - my_mean)**2 for x in salaries]) / len(salaries)\n",
    "my_var"
   ]
  },
  {
   "cell_type": "code",
   "execution_count": 5,
   "id": "f7e073ae",
   "metadata": {
    "scrolled": false
   },
   "outputs": [
    {
     "data": {
      "text/plain": [
       "31.624607341019814"
      ]
     },
     "execution_count": 5,
     "metadata": {},
     "output_type": "execute_result"
    }
   ],
   "source": [
    "# standard deviation (Когда небольшая выборка < 100 - то применяем несмещеную n-1)\n",
    "my_std = my_var_1**.5\n",
    "my_std"
   ]
  },
  {
   "cell_type": "code",
   "execution_count": 6,
   "id": "510cb233",
   "metadata": {},
   "outputs": [
    {
     "data": {
      "text/plain": [
       "(65.3, 1000.1157894736842, 950.11, 31.624607341019814)"
      ]
     },
     "execution_count": 6,
     "metadata": {},
     "output_type": "execute_result"
    }
   ],
   "source": [
    "# verification\n",
    "\n",
    "import numpy as np\n",
    "np.mean(salaries), np.var(salaries, ddof=1), np.var(salaries), np.std(salaries, ddof=1)"
   ]
  },
  {
   "cell_type": "markdown",
   "id": "e37bcd4f",
   "metadata": {},
   "source": [
    "### 2. В первом ящике находится 8 мячей, из которых 5 - белые. Во втором ящике - 12 мячей, из которых 5 белых. Из первого ящика вытаскивают случайным образом два мяча, из второго - 4. Какова вероятность того, что 3 мяча белые?"
   ]
  },
  {
   "cell_type": "markdown",
   "id": "281bbc35",
   "metadata": {},
   "source": [
    "8 - 5 белых, 12 - 5 белых"
   ]
  },
  {
   "cell_type": "code",
   "execution_count": 7,
   "id": "5456ccc0",
   "metadata": {},
   "outputs": [],
   "source": [
    "import numpy as np\n",
    "from math import factorial"
   ]
  },
  {
   "cell_type": "code",
   "execution_count": 8,
   "id": "649f9a68",
   "metadata": {},
   "outputs": [],
   "source": [
    "def combinations(n, k):\n",
    "    return int(factorial(n) / (factorial(k) * factorial(n - k)))"
   ]
  },
  {
   "cell_type": "code",
   "execution_count": 9,
   "id": "71d47ecc",
   "metadata": {},
   "outputs": [],
   "source": [
    "# 1 случай - достаем 2б-0ч_8 и 1б-3ч_12"
   ]
  },
  {
   "cell_type": "code",
   "execution_count": 10,
   "id": "ba361cc8",
   "metadata": {},
   "outputs": [
    {
     "data": {
      "text/plain": [
       "0.12626262626262627"
      ]
     },
     "execution_count": 10,
     "metadata": {},
     "output_type": "execute_result"
    }
   ],
   "source": [
    "p1 = (combinations(5, 2) / combinations(8, 2)) * (combinations(5, 1) * combinations(7, 3) / combinations(12, 4))\n",
    "p1"
   ]
  },
  {
   "cell_type": "code",
   "execution_count": 11,
   "id": "11ba9dd6",
   "metadata": {},
   "outputs": [],
   "source": [
    "# 2 случай - достаем 1б-1ч_8 и 2б-2ч_12"
   ]
  },
  {
   "cell_type": "code",
   "execution_count": 12,
   "id": "6a2d5ea0",
   "metadata": {},
   "outputs": [
    {
     "data": {
      "text/plain": [
       "0.22727272727272727"
      ]
     },
     "execution_count": 12,
     "metadata": {},
     "output_type": "execute_result"
    }
   ],
   "source": [
    "p2 = (combinations(5, 1) * combinations(3, 1) / combinations(8, 2)) * (combinations(5, 2) * combinations(7, 2) / combinations(12, 4))\n",
    "p2"
   ]
  },
  {
   "cell_type": "code",
   "execution_count": 13,
   "id": "ae8826e8",
   "metadata": {},
   "outputs": [],
   "source": [
    "# 3 случай - достаем 0б-2ч_8 и 3б-1ч_12"
   ]
  },
  {
   "cell_type": "code",
   "execution_count": 14,
   "id": "29929ee7",
   "metadata": {},
   "outputs": [
    {
     "data": {
      "text/plain": [
       "0.01515151515151515"
      ]
     },
     "execution_count": 14,
     "metadata": {},
     "output_type": "execute_result"
    }
   ],
   "source": [
    "p3 = (combinations(5, 0) * combinations(3, 2) / combinations(8, 2)) * (combinations(5, 3) * combinations(7, 1) / combinations(12, 4))\n",
    "p3"
   ]
  },
  {
   "cell_type": "code",
   "execution_count": 15,
   "id": "880497ac",
   "metadata": {},
   "outputs": [
    {
     "data": {
      "text/plain": [
       "0.3686868686868687"
      ]
     },
     "execution_count": 15,
     "metadata": {},
     "output_type": "execute_result"
    }
   ],
   "source": [
    "p = p1 + p2 + p3\n",
    "p"
   ]
  },
  {
   "cell_type": "markdown",
   "id": "41b32d05",
   "metadata": {},
   "source": [
    "### 3. На соревновании по биатлону один из трех спортсменов стреляет и попадает в мишень. Вероятность попадания для первого спортсмена равна 0.9, для второго — 0.8, для третьего — 0.6. Найти вероятность того, что выстрел произведен: a). первым спортсменом б). вторым спортсменом в). третьим спортсменом."
   ]
  },
  {
   "cell_type": "markdown",
   "id": "ee3331fc",
   "metadata": {},
   "source": [
    "Формула Байеса\n",
    "\n",
    "P(B|A) = P(B) * P(A|B) / P(A)\n",
    "\n",
    "A - попадание,\n",
    "\n",
    "B1 - первый спортсмен, B2, B3"
   ]
  },
  {
   "cell_type": "code",
   "execution_count": 16,
   "id": "72c13e10",
   "metadata": {},
   "outputs": [],
   "source": [
    "# P(A|B) - вероятность попадания при выстреле спортсмена В\n",
    "\n",
    "pAB1 = 0.9\n",
    "pAB2 = 0.8\n",
    "pAB3 = 0.6\n",
    "\n",
    "# P(B) - вероятность что стрелял сортcмен B\n",
    "\n",
    "pB = 1/3"
   ]
  },
  {
   "cell_type": "code",
   "execution_count": 17,
   "id": "3dd61e08",
   "metadata": {
    "scrolled": true
   },
   "outputs": [
    {
     "data": {
      "text/plain": [
       "0.7666666666666666"
      ]
     },
     "execution_count": 17,
     "metadata": {},
     "output_type": "execute_result"
    }
   ],
   "source": [
    "# P(A) - вероятность что произошло попадание\n",
    "\n",
    "pA = pAB1*pB + pAB2*pB + pAB3*pB\n",
    "pA"
   ]
  },
  {
   "cell_type": "markdown",
   "id": "10564a23",
   "metadata": {},
   "source": [
    "P(B|A) - вероятность выстрела спортсмена B при попадании"
   ]
  },
  {
   "cell_type": "code",
   "execution_count": 18,
   "id": "26963d25",
   "metadata": {},
   "outputs": [
    {
     "data": {
      "text/plain": [
       "0.391304347826087"
      ]
     },
     "execution_count": 18,
     "metadata": {},
     "output_type": "execute_result"
    }
   ],
   "source": [
    "pB1A = pB * pAB1 / pA\n",
    "pB1A"
   ]
  },
  {
   "cell_type": "code",
   "execution_count": 19,
   "id": "a82216d0",
   "metadata": {},
   "outputs": [
    {
     "data": {
      "text/plain": [
       "0.3478260869565218"
      ]
     },
     "execution_count": 19,
     "metadata": {},
     "output_type": "execute_result"
    }
   ],
   "source": [
    "pB2A = pB * pAB2 / pA\n",
    "pB2A"
   ]
  },
  {
   "cell_type": "code",
   "execution_count": 20,
   "id": "bcd894d9",
   "metadata": {},
   "outputs": [
    {
     "data": {
      "text/plain": [
       "0.2608695652173913"
      ]
     },
     "execution_count": 20,
     "metadata": {},
     "output_type": "execute_result"
    }
   ],
   "source": [
    "pB3A = pB * pAB3 / pA\n",
    "pB3A"
   ]
  },
  {
   "cell_type": "markdown",
   "id": "26ccf311",
   "metadata": {},
   "source": [
    "### 4. В университет на факультеты A и B поступило равное количество студентов, а на факультет C студентов поступило столько же, сколько на A и B вместе. Вероятность того, что студент факультета A сдаст первую сессию, равна 0.8. Для студента факультета B эта вероятность равна 0.7, а для студента факультета C - 0.9. Студент сдал первую сессию. Какова вероятность, что он учится: a). на факультете A б). на факультете B в). на факультете C?"
   ]
  },
  {
   "cell_type": "markdown",
   "id": "35947c54",
   "metadata": {},
   "source": [
    "Формула Байеса\n",
    "\n",
    "P(A,B,C|X) = P(A,B,C) * P(X|A,B,C) / P(X)\n",
    "\n",
    "X - сессия сдана"
   ]
  },
  {
   "cell_type": "code",
   "execution_count": 21,
   "id": "f1a9a95b",
   "metadata": {},
   "outputs": [],
   "source": [
    "# P(X|A,B,C) - вероятность что студент факультета А,B,C сдаст сессию\n",
    "\n",
    "pXA = 0.8\n",
    "pXB = 0.7\n",
    "pXC = 0.9"
   ]
  },
  {
   "cell_type": "code",
   "execution_count": 22,
   "id": "2a5bbc9a",
   "metadata": {},
   "outputs": [],
   "source": [
    "# P(A,B,C) - вероятность что студент с факультета A,B,C\n",
    "\n",
    "pA = 0.25\n",
    "pB = 0.25\n",
    "pC = 0.5"
   ]
  },
  {
   "cell_type": "code",
   "execution_count": 23,
   "id": "33fda90a",
   "metadata": {},
   "outputs": [
    {
     "data": {
      "text/plain": [
       "0.825"
      ]
     },
     "execution_count": 23,
     "metadata": {},
     "output_type": "execute_result"
    }
   ],
   "source": [
    "# P(X) - полная вероятность что сессия сдана\n",
    "\n",
    "pX = pA*pXA + pB*pXB + pC*pXC\n",
    "pX"
   ]
  },
  {
   "cell_type": "markdown",
   "id": "0bfffe93",
   "metadata": {},
   "source": [
    "P(A,B,C|X) вероятность что студент, сдавший сессию, учится на факультете A,B,C"
   ]
  },
  {
   "cell_type": "code",
   "execution_count": 24,
   "id": "efd7122c",
   "metadata": {},
   "outputs": [
    {
     "data": {
      "text/plain": [
       "0.24242424242424246"
      ]
     },
     "execution_count": 24,
     "metadata": {},
     "output_type": "execute_result"
    }
   ],
   "source": [
    "pAX = pA * pXA / pX\n",
    "pAX"
   ]
  },
  {
   "cell_type": "code",
   "execution_count": 25,
   "id": "b57b48fe",
   "metadata": {},
   "outputs": [
    {
     "data": {
      "text/plain": [
       "0.21212121212121213"
      ]
     },
     "execution_count": 25,
     "metadata": {},
     "output_type": "execute_result"
    }
   ],
   "source": [
    "pBX = pB * pXB / pX\n",
    "pBX"
   ]
  },
  {
   "cell_type": "code",
   "execution_count": 26,
   "id": "f1bde332",
   "metadata": {},
   "outputs": [
    {
     "data": {
      "text/plain": [
       "0.5454545454545455"
      ]
     },
     "execution_count": 26,
     "metadata": {},
     "output_type": "execute_result"
    }
   ],
   "source": [
    "pCX = pC * pXC / pX\n",
    "pCX"
   ]
  },
  {
   "cell_type": "markdown",
   "id": "12e85510",
   "metadata": {},
   "source": [
    "### 5. Устройство состоит из трех деталей. Для первой детали вероятность выйти из строя в первый месяц равна 0.1, для второй - 0.2, для третьей - 0.25. Какова вероятность того, что в первый месяц выйдут из строя: а). все детали б). только две детали в). хотя бы одна деталь г). от одной до двух деталей?"
   ]
  },
  {
   "cell_type": "code",
   "execution_count": 27,
   "id": "219334f7",
   "metadata": {},
   "outputs": [],
   "source": [
    "p1_f = 0.1  # 1 detail fails\n",
    "p2_f = 0.2\n",
    "p3_f = 0.25\n",
    "p1_w = 1 - p1_f  # 1 detail doesn't fail\n",
    "p2_w = 1 - p2_f\n",
    "p3_w = 1 - p3_f"
   ]
  },
  {
   "cell_type": "code",
   "execution_count": 28,
   "id": "a5211390",
   "metadata": {},
   "outputs": [
    {
     "data": {
      "text/plain": [
       "0.005000000000000001"
      ]
     },
     "execution_count": 28,
     "metadata": {},
     "output_type": "execute_result"
    }
   ],
   "source": [
    "# все детали капут\n",
    "\n",
    "p_all_f = p1_f * p2_f * p3_f\n",
    "p_all_f"
   ]
  },
  {
   "cell_type": "code",
   "execution_count": 40,
   "id": "35cc6c24",
   "metadata": {},
   "outputs": [
    {
     "data": {
      "text/plain": [
       "0.08"
      ]
     },
     "execution_count": 40,
     "metadata": {},
     "output_type": "execute_result"
    }
   ],
   "source": [
    "# две детали капут (то есть либо не первая, либо не вторая, либо не третья)\n",
    "\n",
    "p_2_f = p1_w*p2_f*p3_f + p1_f*p2_w*p3_f + p1_f*p2_f*p3_w\n",
    "p_2_f"
   ]
  },
  {
   "cell_type": "code",
   "execution_count": 38,
   "id": "9c77c54a",
   "metadata": {},
   "outputs": [
    {
     "data": {
      "text/plain": [
       "0.45999999999999996"
      ]
     },
     "execution_count": 38,
     "metadata": {},
     "output_type": "execute_result"
    }
   ],
   "source": [
    "# хотя бы одна капут (то есть устраивает и три и две и одна, то есть 1 - p(ни одна не выйдет из строя)\n",
    "\n",
    "p_atleast_1_f = 1 - p1_w*p2_w*p3_w\n",
    "p_atleast_1_f"
   ]
  },
  {
   "cell_type": "code",
   "execution_count": 39,
   "id": "fb89eb26",
   "metadata": {},
   "outputs": [
    {
     "data": {
      "text/plain": [
       "0.45499999999999996"
      ]
     },
     "execution_count": 39,
     "metadata": {},
     "output_type": "execute_result"
    }
   ],
   "source": [
    "# от 1 до 2 деталей капут (то есть 1 - р(все капут) - p(все не капут))\n",
    "\n",
    "p_from1to2_f = 1 - p1_f*p2_f*p3_f - p1_w*p2_w*p3_w\n",
    "p_from1to2_f"
   ]
  }
 ],
 "metadata": {
  "kernelspec": {
   "display_name": "Python 3",
   "language": "python",
   "name": "python3"
  },
  "language_info": {
   "codemirror_mode": {
    "name": "ipython",
    "version": 3
   },
   "file_extension": ".py",
   "mimetype": "text/x-python",
   "name": "python",
   "nbconvert_exporter": "python",
   "pygments_lexer": "ipython3",
   "version": "3.8.8"
  }
 },
 "nbformat": 4,
 "nbformat_minor": 5
}
