{
 "cells": [
  {
   "cell_type": "markdown",
   "id": "c7f15d6a",
   "metadata": {},
   "source": [
    "# ДЗ_04 math stat\n",
    "## Непрерывные случайные величины. Функция распределения и плотность распределения вероятностей. Равномерное и нормальное распределение. Центральная предельная теорема"
   ]
  },
  {
   "cell_type": "markdown",
   "id": "011b2a0e",
   "metadata": {},
   "source": [
    "1. Случайная непрерывная величина A имеет равномерное распределение на промежутке (200, 800]. Найдите ее среднее значение и дисперсию."
   ]
  },
  {
   "cell_type": "code",
   "execution_count": 1,
   "id": "906bcff2",
   "metadata": {},
   "outputs": [],
   "source": [
    "import numpy as np"
   ]
  },
  {
   "cell_type": "code",
   "execution_count": 2,
   "id": "b33b216e",
   "metadata": {},
   "outputs": [],
   "source": [
    "A_start = 200\n",
    "A_end = 800"
   ]
  },
  {
   "cell_type": "code",
   "execution_count": 3,
   "id": "c4d269da",
   "metadata": {},
   "outputs": [
    {
     "data": {
      "text/plain": [
       "500.0"
      ]
     },
     "execution_count": 3,
     "metadata": {},
     "output_type": "execute_result"
    }
   ],
   "source": [
    "M_A = (A_start + A_end) / 2\n",
    "M_A"
   ]
  },
  {
   "cell_type": "code",
   "execution_count": 4,
   "id": "0ad1b820",
   "metadata": {},
   "outputs": [
    {
     "data": {
      "text/plain": [
       "30000.0"
      ]
     },
     "execution_count": 4,
     "metadata": {},
     "output_type": "execute_result"
    }
   ],
   "source": [
    "D = (A_end - A_start)**2 / 12\n",
    "D"
   ]
  },
  {
   "cell_type": "markdown",
   "id": "c55035af",
   "metadata": {},
   "source": [
    "2. О случайной непрерывной равномерно распределенной величине B известно, что ее дисперсия равна 0.2. Можно ли найти правую границу величины B и ее среднее значение зная, что левая граница равна 0.5? Если да, найдите ее."
   ]
  },
  {
   "cell_type": "code",
   "execution_count": 11,
   "id": "9f647ff7",
   "metadata": {},
   "outputs": [],
   "source": [
    "D = 0.2\n",
    "B_start = 0.5"
   ]
  },
  {
   "cell_type": "code",
   "execution_count": 12,
   "id": "f7d6a1ca",
   "metadata": {},
   "outputs": [
    {
     "data": {
      "text/plain": [
       "2.049193338482967"
      ]
     },
     "execution_count": 12,
     "metadata": {},
     "output_type": "execute_result"
    }
   ],
   "source": [
    "# B_end = ? M_B = ?\n",
    "B_end = ((12*D)**0.5) + B_start\n",
    "B_end"
   ]
  },
  {
   "cell_type": "code",
   "execution_count": 13,
   "id": "35301096",
   "metadata": {},
   "outputs": [
    {
     "data": {
      "text/plain": [
       "1.2745966692414834"
      ]
     },
     "execution_count": 13,
     "metadata": {},
     "output_type": "execute_result"
    }
   ],
   "source": [
    "M_B = (B_start + B_end) / 2\n",
    "M_B"
   ]
  },
  {
   "cell_type": "markdown",
   "id": "798e73b1",
   "metadata": {},
   "source": [
    "3. Непрерывная случайная величина X распределена нормально и задана плотностью распределения.\n",
    "\n",
    " f(x) = (1 / (4 * sqrt(2*pi))) * (exp(-(x+2)^2) / 32)\n",
    " \n",
    "Найдите:\n",
    "\n",
    "а). M(X)\n",
    "\n",
    "б). D(X)\n",
    "\n",
    "в). std(X) (среднее квадратичное отклонение)"
   ]
  },
  {
   "cell_type": "markdown",
   "id": "40769ba0",
   "metadata": {},
   "source": [
    "f(x) = (1 / (sigma * sqrt(2*pi))) * (exp(-(x-a)^2) / 2*sigma^2)"
   ]
  },
  {
   "cell_type": "markdown",
   "id": "7adaf092",
   "metadata": {},
   "source": [
    "ОТВЕТЫ:\n",
    "\n",
    "std(X) = 4\n",
    "\n",
    "D(X) = (std(X))^2 = 4^2 = 16\n",
    "\n",
    "M(X) = a = -2"
   ]
  },
  {
   "cell_type": "markdown",
   "id": "64653fa5",
   "metadata": {},
   "source": [
    "4. Рост взрослого населения города X имеет нормальное распределение.\n",
    "\n",
    "Причем, средний рост равен 174 см, а среднее квадратичное отклонение равно 8 см.\n",
    "\n",
    "Какова вероятность того, что случайным образом выбранный взрослый человек имеет рост:\n",
    "\n",
    "а). больше 182 см\n",
    "б). больше 190 см\n",
    "в). от 166 см до 190 см\n",
    "г). от 166 см до 182 см\n",
    "д). от 158 см до 190 см\n",
    "е). не выше 150 см или не ниже 190 см\n",
    "ё). не выше 150 см или не ниже 198 см\n",
    "ж). ниже 166 см."
   ]
  },
  {
   "cell_type": "markdown",
   "id": "1ea7036a",
   "metadata": {},
   "source": [
    "M(X) = 174\n",
    "\n",
    "std(X) = 8\n",
    "\n",
    "-3_150 = -2_158 = -1_166 = 174 = +1_182 = +2_190 = +3_198"
   ]
  },
  {
   "cell_type": "code",
   "execution_count": 16,
   "id": "06bcf78a",
   "metadata": {},
   "outputs": [],
   "source": [
    "sigma1 = 68\n",
    "sigma2 = 95.4\n",
    "sigma3 = 99.72"
   ]
  },
  {
   "cell_type": "code",
   "execution_count": 17,
   "id": "53bfbba8",
   "metadata": {},
   "outputs": [
    {
     "data": {
      "text/plain": [
       "16.0"
      ]
     },
     "execution_count": 17,
     "metadata": {},
     "output_type": "execute_result"
    }
   ],
   "source": [
    "# а). больше 182 см\n",
    "\n",
    "h_higher182 = 50 - (sigma1 / 2)\n",
    "h_higher182"
   ]
  },
  {
   "cell_type": "code",
   "execution_count": 18,
   "id": "6e544926",
   "metadata": {},
   "outputs": [
    {
     "data": {
      "text/plain": [
       "2.299999999999997"
      ]
     },
     "execution_count": 18,
     "metadata": {},
     "output_type": "execute_result"
    }
   ],
   "source": [
    "# б). больше 190 см\n",
    "\n",
    "h_higher190 = 50 - (sigma2 / 2)\n",
    "h_higher182"
   ]
  },
  {
   "cell_type": "code",
   "execution_count": 19,
   "id": "45d0cbcb",
   "metadata": {},
   "outputs": [
    {
     "data": {
      "text/plain": [
       "81.7"
      ]
     },
     "execution_count": 19,
     "metadata": {},
     "output_type": "execute_result"
    }
   ],
   "source": [
    "# в). от 166 см до 190 см\n",
    "\n",
    "h_higher166_less190 = sigma2 - ((sigma2 - sigma1) / 2)\n",
    "h_higher166_less190"
   ]
  },
  {
   "cell_type": "code",
   "execution_count": 20,
   "id": "44ad7185",
   "metadata": {},
   "outputs": [
    {
     "data": {
      "text/plain": [
       "68"
      ]
     },
     "execution_count": 20,
     "metadata": {},
     "output_type": "execute_result"
    }
   ],
   "source": [
    "# г). от 166 см до 182 см\n",
    "\n",
    "h_higher166_less182 = sigma1\n",
    "h_higher166_less182"
   ]
  },
  {
   "cell_type": "code",
   "execution_count": 21,
   "id": "b4bd37a3",
   "metadata": {},
   "outputs": [
    {
     "data": {
      "text/plain": [
       "95.4"
      ]
     },
     "execution_count": 21,
     "metadata": {},
     "output_type": "execute_result"
    }
   ],
   "source": [
    "# д). от 158 см до 190 см\n",
    "\n",
    "h_higher158_less190 = sigma2\n",
    "h_higher158_less190"
   ]
  },
  {
   "cell_type": "code",
   "execution_count": 29,
   "id": "c414f7be",
   "metadata": {},
   "outputs": [
    {
     "data": {
      "text/plain": [
       "2.4399999999999977"
      ]
     },
     "execution_count": 29,
     "metadata": {},
     "output_type": "execute_result"
    }
   ],
   "source": [
    "# е). не выше 150 см или не ниже 190 см \n",
    "\n",
    "h_less150_higher190 = 100 - sigma3 + (sigma3 - sigma2) / 2\n",
    "h_less150_higher190"
   ]
  },
  {
   "cell_type": "code",
   "execution_count": 25,
   "id": "5c60f826",
   "metadata": {},
   "outputs": [
    {
     "data": {
      "text/plain": [
       "0.28000000000000114"
      ]
     },
     "execution_count": 25,
     "metadata": {},
     "output_type": "execute_result"
    }
   ],
   "source": [
    "# ё). не выше 150 см или не ниже 198 см\n",
    "\n",
    "h_less150_higher198 = 100 - sigma3\n",
    "h_less150_higher198"
   ]
  },
  {
   "cell_type": "code",
   "execution_count": 27,
   "id": "72d05614",
   "metadata": {},
   "outputs": [
    {
     "data": {
      "text/plain": [
       "16.0"
      ]
     },
     "execution_count": 27,
     "metadata": {},
     "output_type": "execute_result"
    }
   ],
   "source": [
    "# ж). ниже 166 см\n",
    "\n",
    "h_less166 = 50 - (sigma1 / 2)\n",
    "h_less166"
   ]
  },
  {
   "cell_type": "markdown",
   "id": "7bb089f2",
   "metadata": {},
   "source": [
    "5. На сколько сигм (средних квадратичных отклонений) отклоняется рост человека, равный 190 см, от математического ожидания роста в популяции, в которой M(X) = 178 см и D(X) = 25 кв.см?"
   ]
  },
  {
   "cell_type": "code",
   "execution_count": 34,
   "id": "218e44f2",
   "metadata": {},
   "outputs": [],
   "source": [
    "human_height = 190\n",
    "M_X = 178\n",
    "D_X = 25"
   ]
  },
  {
   "cell_type": "code",
   "execution_count": 35,
   "id": "4459bb07",
   "metadata": {},
   "outputs": [
    {
     "data": {
      "text/plain": [
       "5.0"
      ]
     },
     "execution_count": 35,
     "metadata": {},
     "output_type": "execute_result"
    }
   ],
   "source": [
    "std_X = D_X**0.5\n",
    "std_X"
   ]
  },
  {
   "cell_type": "code",
   "execution_count": 43,
   "id": "f7941f55",
   "metadata": {},
   "outputs": [
    {
     "data": {
      "text/plain": [
       "2.4"
      ]
     },
     "execution_count": 43,
     "metadata": {},
     "output_type": "execute_result"
    }
   ],
   "source": [
    "# На сколько сигм (средних квадратичных отклонений) отклоняется рост человека, равный 190 см\n",
    "\n",
    "sigma_parts = (human_height - M_X) / std_X\n",
    "sigma_parts"
   ]
  }
 ],
 "metadata": {
  "kernelspec": {
   "display_name": "Python 3",
   "language": "python",
   "name": "python3"
  },
  "language_info": {
   "codemirror_mode": {
    "name": "ipython",
    "version": 3
   },
   "file_extension": ".py",
   "mimetype": "text/x-python",
   "name": "python",
   "nbconvert_exporter": "python",
   "pygments_lexer": "ipython3",
   "version": "3.8.8"
  }
 },
 "nbformat": 4,
 "nbformat_minor": 5
}
